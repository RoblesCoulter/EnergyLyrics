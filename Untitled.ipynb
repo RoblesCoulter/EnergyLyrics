{
 "cells": [
  {
   "cell_type": "markdown",
   "metadata": {},
   "source": [
    "## Word2Vec Exploration"
   ]
  },
  {
   "cell_type": "code",
   "execution_count": 2,
   "metadata": {
    "collapsed": true
   },
   "outputs": [],
   "source": [
    "import numpy as np\n",
    "import pandas as pd\n",
    "import gensim\n",
    "import sklearn.manifold\n",
    "import re\n",
    "import time\n",
    "from collections import Counter\n",
    "from nltk.corpus import stopwords\n",
    "from sklearn.manifold import TSNE\n",
    "import matplotlib.pyplot as plt"
   ]
  },
  {
   "cell_type": "code",
   "execution_count": 3,
   "metadata": {
    "collapsed": false
   },
   "outputs": [],
   "source": [
    "sg_model = gensim.models.Word2Vec.load('models/sg_model.w2v')\n",
    "cbow_model = gensim.models.Word2Vec.load('models/cbow_model.w2v')\n",
    "lyrics_data = pd.read_csv(\"LyricsFreak.csv\")"
   ]
  },
  {
   "cell_type": "code",
   "execution_count": 3,
   "metadata": {
    "collapsed": true
   },
   "outputs": [],
   "source": [
    "def split_lyric(lyrics):   \n",
    "    splitted_lyrics = re.sub(' +', ' ', clean_lyric(lyrics)).split(' ')\n",
    "    return [ word.lower() for word in splitted_lyrics if word != '']\n",
    "\n",
    "def clean_lyric(lyric):\n",
    "    punct_str = '!\\\"#$%&\\\\()*+,-./:;<=>/?@[\\\\\\\\]^_`{|}~«»\\\\n'\n",
    "    for p in punct_str:\n",
    "        lyric = lyric.replace(p,' ')\n",
    "    return lyric\n",
    "\n",
    "def cbow_songVector(row):\n",
    "    vector_sum = 0\n",
    "    words = split_lyric(row)\n",
    "    for word in words:\n",
    "        vector_sum = vector_sum + cbow_model[word]\n",
    "    vector_sum = vector_sum.reshape(1,-1)\n",
    "    normalised_vector_sum = sklearn.preprocessing.normalize(vector_sum)\n",
    "    return normalised_vector_sum\n",
    "    \n",
    "def sg_songVector(row):\n",
    "    vector_sum = 0\n",
    "    words = split_lyric(row)\n",
    "    for word in words:\n",
    "        vector_sum = vector_sum + sg_model[word]\n",
    "    vector_sum = vector_sum.reshape(1,-1)\n",
    "    normalised_vector_sum = sklearn.preprocessing.normalize(vector_sum)\n",
    "    return normalised_vector_sum\n",
    "\n",
    "def sum_vectors(lista,model):\n",
    "    vector_sum = 0\n",
    "    for word in lista:\n",
    "        vector_sum = vector_sum + model[word]\n",
    "    vector_sum = vector_sum.reshape(1,-1)\n",
    "    normalised_vector_sum = sklearn.preprocessing.normalize(vector_sum)\n",
    "    return normalised_vector_sum"
   ]
  },
  {
   "cell_type": "code",
   "execution_count": 6,
   "metadata": {
    "collapsed": false
   },
   "outputs": [
    {
     "name": "stdout",
     "output_type": "stream",
     "text": [
      "--- 7.510185241699219e-05 seconds ---\n",
      "--- 7.104873657226562e-05 seconds ---\n"
     ]
    }
   ],
   "source": [
    "start_time = time.time()\n",
    "#lyrics_data['cbow_song_vector'] = lyrics_data['text'].apply(cbow_songVector)\n",
    "print(\"--- %s seconds ---\" % (time.time() - start_time))\n",
    "start_time = time.time()\n",
    "#lyrics_data['sg_song_vector'] = lyrics_data['text'].apply(sg_songVector)\n",
    "print(\"--- %s seconds ---\" % (time.time() - start_time))"
   ]
  },
  {
   "cell_type": "code",
   "execution_count": 15,
   "metadata": {
    "collapsed": false
   },
   "outputs": [],
   "source": [
    "stops = stopwords.words('english')\n",
    "file = open(\"lyrics_text.txt\", 'r+',encoding='utf-8-sig')\n",
    "wordcount = Counter(word for word in file.read().split() if word not in stops)"
   ]
  },
  {
   "cell_type": "code",
   "execution_count": 27,
   "metadata": {
    "collapsed": false
   },
   "outputs": [
    {
     "data": {
      "text/plain": [
       "[(\"i'm\", 105835),\n",
       " ('love', 92539),\n",
       " (\"don't\", 81028),\n",
       " ('know', 72551),\n",
       " (\"it's\", 68750),\n",
       " ('like', 63617),\n",
       " ('oh', 63040),\n",
       " ('got', 50299),\n",
       " ('one', 44945),\n",
       " ('go', 44280),\n",
       " ('time', 43479),\n",
       " ('get', 43450),\n",
       " (\"you're\", 42946),\n",
       " ('baby', 41135),\n",
       " ('see', 41100),\n",
       " ('want', 39818),\n",
       " ('never', 39506),\n",
       " ('come', 36289),\n",
       " (\"can't\", 36247),\n",
       " ('yeah', 34570)]"
      ]
     },
     "execution_count": 27,
     "metadata": {},
     "output_type": "execute_result"
    }
   ],
   "source": [
    "wordcount.most_common(20)"
   ]
  },
  {
   "cell_type": "code",
   "execution_count": 40,
   "metadata": {
    "collapsed": false
   },
   "outputs": [
    {
     "name": "stdout",
     "output_type": "stream",
     "text": [
      "Love\n"
     ]
    },
    {
     "data": {
      "text/plain": [
       "[(\"understandin'\", 0.8563092350959778),\n",
       " ('reassure', 0.8481371998786926),\n",
       " ('posses', 0.8461930751800537),\n",
       " ('belonging', 0.8394216895103455),\n",
       " ('loving', 0.8385530710220337)]"
      ]
     },
     "execution_count": 40,
     "metadata": {},
     "output_type": "execute_result"
    }
   ],
   "source": [
    "print(\"Love\")\n",
    "sg_model.most_similar(positive=['love'],topn=5)"
   ]
  },
  {
   "cell_type": "code",
   "execution_count": 41,
   "metadata": {
    "collapsed": false
   },
   "outputs": [
    {
     "name": "stdout",
     "output_type": "stream",
     "text": [
      "Love\n"
     ]
    },
    {
     "data": {
      "text/plain": [
       "[('loving', 0.8135256171226501),\n",
       " ('baby', 0.7297697067260742),\n",
       " ('you', 0.7092635631561279),\n",
       " (\"lovin'\", 0.7057769894599915),\n",
       " ('oh', 0.70156329870224)]"
      ]
     },
     "execution_count": 41,
     "metadata": {},
     "output_type": "execute_result"
    }
   ],
   "source": [
    "print(\"Love\")\n",
    "cbow_model.most_similar(positive=['love'],topn=5)"
   ]
  },
  {
   "cell_type": "code",
   "execution_count": 44,
   "metadata": {
    "collapsed": false
   },
   "outputs": [
    {
     "name": "stdout",
     "output_type": "stream",
     "text": [
      "Hate\n"
     ]
    },
    {
     "data": {
      "text/plain": [
       "[('needless', 0.8225346207618713),\n",
       " ('extent', 0.8090395331382751),\n",
       " ('violated', 0.8051789402961731),\n",
       " ('hypocrite', 0.8036386370658875),\n",
       " ('mislead', 0.7972413301467896)]"
      ]
     },
     "execution_count": 44,
     "metadata": {},
     "output_type": "execute_result"
    }
   ],
   "source": [
    "print(\"Hate\")\n",
    "sg_model.most_similar(positive=['hate'],topn=5)"
   ]
  },
  {
   "cell_type": "code",
   "execution_count": 47,
   "metadata": {
    "collapsed": false
   },
   "outputs": [
    {
     "name": "stdout",
     "output_type": "stream",
     "text": [
      "Hate\n"
     ]
    },
    {
     "data": {
      "text/plain": [
       "[('sick', 0.6256549954414368),\n",
       " ('deserve', 0.5560274124145508),\n",
       " ('need', 0.5546591281890869),\n",
       " ('know', 0.5512157082557678),\n",
       " ('understand', 0.547520637512207)]"
      ]
     },
     "execution_count": 47,
     "metadata": {},
     "output_type": "execute_result"
    }
   ],
   "source": [
    "print(\"Hate\")\n",
    "cbow_model.most_similar(positive=['hate'],topn=5)"
   ]
  },
  {
   "cell_type": "code",
   "execution_count": 48,
   "metadata": {
    "collapsed": false
   },
   "outputs": [
    {
     "data": {
      "text/plain": [
       "0.7241368290421204"
      ]
     },
     "execution_count": 48,
     "metadata": {},
     "output_type": "execute_result"
    }
   ],
   "source": [
    "sg_model.similarity('hate', 'love')"
   ]
  },
  {
   "cell_type": "code",
   "execution_count": 49,
   "metadata": {
    "collapsed": false
   },
   "outputs": [
    {
     "data": {
      "text/plain": [
       "0.39338540915322229"
      ]
     },
     "execution_count": 49,
     "metadata": {},
     "output_type": "execute_result"
    }
   ],
   "source": [
    "cbow_model.similarity('hate','love')"
   ]
  },
  {
   "cell_type": "code",
   "execution_count": 50,
   "metadata": {
    "collapsed": false
   },
   "outputs": [
    {
     "name": "stdout",
     "output_type": "stream",
     "text": [
      "Bitch\n"
     ]
    },
    {
     "data": {
      "text/plain": [
       "[('nigga', 0.916361927986145),\n",
       " ('ass', 0.9091150164604187),\n",
       " ('hoe', 0.9008374214172363),\n",
       " ('shit', 0.8850321173667908),\n",
       " ('homey', 0.8825402855873108)]"
      ]
     },
     "execution_count": 50,
     "metadata": {},
     "output_type": "execute_result"
    }
   ],
   "source": [
    "print(\"Bitch\")\n",
    "sg_model.most_similar(positive=['bitch'],topn=5)"
   ]
  },
  {
   "cell_type": "code",
   "execution_count": 51,
   "metadata": {
    "collapsed": false
   },
   "outputs": [
    {
     "name": "stdout",
     "output_type": "stream",
     "text": [
      "Bitch\n"
     ]
    },
    {
     "data": {
      "text/plain": [
       "[('nigga', 0.8731383681297302),\n",
       " ('motherfucker', 0.8689953684806824),\n",
       " ('hoe', 0.8627142310142517),\n",
       " ('ass', 0.8226838111877441),\n",
       " ('shit', 0.8193044662475586)]"
      ]
     },
     "execution_count": 51,
     "metadata": {},
     "output_type": "execute_result"
    }
   ],
   "source": [
    "print(\"Bitch\")\n",
    "cbow_model.most_similar(positive=['bitch'],topn=5)"
   ]
  },
  {
   "cell_type": "code",
   "execution_count": 53,
   "metadata": {
    "collapsed": false
   },
   "outputs": [
    {
     "name": "stdout",
     "output_type": "stream",
     "text": [
      "Death\n"
     ]
    },
    {
     "data": {
      "text/plain": [
       "[('undead', 0.8419730067253113),\n",
       " ('pestilence', 0.8320827484130859),\n",
       " ('violence', 0.8241569995880127),\n",
       " ('vengeance', 0.8225622177124023),\n",
       " (\"lucifer's\", 0.8206878900527954)]"
      ]
     },
     "execution_count": 53,
     "metadata": {},
     "output_type": "execute_result"
    }
   ],
   "source": [
    "print(\"Death\")\n",
    "sg_model.most_similar(positive=['death'],topn=5)"
   ]
  },
  {
   "cell_type": "code",
   "execution_count": 52,
   "metadata": {
    "collapsed": false
   },
   "outputs": [
    {
     "name": "stdout",
     "output_type": "stream",
     "text": [
      "Death\n"
     ]
    },
    {
     "data": {
      "text/plain": [
       "[('sin', 0.7397729754447937),\n",
       " ('vengeance', 0.684362530708313),\n",
       " ('violence', 0.6662107110023499),\n",
       " ('destruction', 0.6469458341598511),\n",
       " ('greed', 0.6430654525756836)]"
      ]
     },
     "execution_count": 52,
     "metadata": {},
     "output_type": "execute_result"
    }
   ],
   "source": [
    "print(\"Death\")\n",
    "cbow_model.most_similar(positive=['death'],topn=5)"
   ]
  },
  {
   "cell_type": "code",
   "execution_count": 25,
   "metadata": {
    "collapsed": false
   },
   "outputs": [
    {
     "data": {
      "text/plain": [
       "[('feels', 0.8403787016868591),\n",
       " ('uncomfortable', 0.8059965372085571),\n",
       " ('uneasy', 0.8043667078018188),\n",
       " ('touch', 0.8012054562568665),\n",
       " ('uninspired', 0.7966713309288025)]"
      ]
     },
     "execution_count": 25,
     "metadata": {},
     "output_type": "execute_result"
    }
   ],
   "source": [
    "print(\"Feel\")\n",
    "sg_model.most_similar(positive=['feel'],topn=5)"
   ]
  },
  {
   "cell_type": "code",
   "execution_count": 55,
   "metadata": {
    "collapsed": false
   },
   "outputs": [
    {
     "name": "stdout",
     "output_type": "stream",
     "text": [
      "Feel\n"
     ]
    },
    {
     "data": {
      "text/plain": [
       "[('feels', 0.6813862323760986),\n",
       " ('feeling', 0.6737538576126099),\n",
       " ('touch', 0.6611270904541016),\n",
       " ('know', 0.6428345441818237),\n",
       " ('see', 0.6201209425926208)]"
      ]
     },
     "execution_count": 55,
     "metadata": {},
     "output_type": "execute_result"
    }
   ],
   "source": [
    "print(\"Feel\")\n",
    "cbow_model.most_similar(positive=['feel'],topn=5)"
   ]
  },
  {
   "cell_type": "code",
   "execution_count": 56,
   "metadata": {
    "collapsed": false
   },
   "outputs": [
    {
     "name": "stdout",
     "output_type": "stream",
     "text": [
      "Time\n"
     ]
    },
    {
     "data": {
      "text/plain": [
       "[(\"now's\", 0.8421967029571533),\n",
       " (\"'cus\", 0.8407679200172424),\n",
       " ('procardia', 0.834004819393158),\n",
       " (\"waiting's\", 0.8211889266967773),\n",
       " ('celebate', 0.8184973001480103)]"
      ]
     },
     "execution_count": 56,
     "metadata": {},
     "output_type": "execute_result"
    }
   ],
   "source": [
    "print('Time')\n",
    "sg_model.most_similar(positive=['time'],topn=5)"
   ]
  },
  {
   "cell_type": "code",
   "execution_count": 57,
   "metadata": {
    "collapsed": false
   },
   "outputs": [
    {
     "name": "stdout",
     "output_type": "stream",
     "text": [
      "Time\n"
     ]
    },
    {
     "data": {
      "text/plain": [
       "[('moment', 0.7394558787345886),\n",
       " ('day', 0.7283280491828918),\n",
       " ('chance', 0.7216507792472839),\n",
       " ('way', 0.6558200120925903),\n",
       " ('life', 0.6341539025306702)]"
      ]
     },
     "execution_count": 57,
     "metadata": {},
     "output_type": "execute_result"
    }
   ],
   "source": [
    "print('Time')\n",
    "cbow_model.most_similar(positive=['time'],topn=5)"
   ]
  },
  {
   "cell_type": "code",
   "execution_count": 59,
   "metadata": {
    "collapsed": false
   },
   "outputs": [
    {
     "name": "stdout",
     "output_type": "stream",
     "text": [
      "Baby\n"
     ]
    },
    {
     "data": {
      "text/plain": [
       "[('babe', 0.9389967918395996),\n",
       " ('darlin', 0.8708404898643494),\n",
       " ('ooh', 0.855905294418335),\n",
       " ('oohhh', 0.8557827472686768),\n",
       " (\"darlin'\", 0.8471555113792419)]"
      ]
     },
     "execution_count": 59,
     "metadata": {},
     "output_type": "execute_result"
    }
   ],
   "source": [
    "print('Baby')\n",
    "sg_model.most_similar(positive=['baby'],topn=5)"
   ]
  },
  {
   "cell_type": "code",
   "execution_count": 58,
   "metadata": {
    "collapsed": false
   },
   "outputs": [
    {
     "name": "stdout",
     "output_type": "stream",
     "text": [
      "Baby\n"
     ]
    },
    {
     "data": {
      "text/plain": [
       "[('babe', 0.8702223300933838),\n",
       " (\"darlin'\", 0.8207559585571289),\n",
       " ('oh', 0.8153826594352722),\n",
       " ('ooh', 0.8147225379943848),\n",
       " ('yeah', 0.7809575200080872)]"
      ]
     },
     "execution_count": 58,
     "metadata": {},
     "output_type": "execute_result"
    }
   ],
   "source": [
    "print('Baby')\n",
    "cbow_model.most_similar(positive=['baby'],topn=5)"
   ]
  },
  {
   "cell_type": "code",
   "execution_count": 60,
   "metadata": {
    "collapsed": false
   },
   "outputs": [
    {
     "name": "stdout",
     "output_type": "stream",
     "text": [
      "Money\n"
     ]
    },
    {
     "data": {
      "text/plain": [
       "[('cash', 0.8603858947753906),\n",
       " ('dough', 0.8239105939865112),\n",
       " ('bank', 0.8236185312271118),\n",
       " ('income', 0.815504252910614),\n",
       " ('sadat', 0.8130607604980469)]"
      ]
     },
     "execution_count": 60,
     "metadata": {},
     "output_type": "execute_result"
    }
   ],
   "source": [
    "print('Money')\n",
    "sg_model.most_similar(positive=['money'],topn=5)"
   ]
  },
  {
   "cell_type": "code",
   "execution_count": 62,
   "metadata": {
    "collapsed": false
   },
   "outputs": [
    {
     "name": "stdout",
     "output_type": "stream",
     "text": [
      "Money\n"
     ]
    },
    {
     "data": {
      "text/plain": [
       "[('cash', 0.7845544219017029),\n",
       " ('dough', 0.7241089940071106),\n",
       " (\"seinin'\", 0.6978685855865479),\n",
       " ('drugs', 0.6491255760192871),\n",
       " ('business', 0.6480509042739868)]"
      ]
     },
     "execution_count": 62,
     "metadata": {},
     "output_type": "execute_result"
    }
   ],
   "source": [
    "print('Money')\n",
    "cbow_model.most_similar(positive=['money'],topn=5)"
   ]
  },
  {
   "cell_type": "code",
   "execution_count": 63,
   "metadata": {
    "collapsed": false
   },
   "outputs": [
    {
     "name": "stdout",
     "output_type": "stream",
     "text": [
      "Happy\n"
     ]
    },
    {
     "data": {
      "text/plain": [
       "[('unhappy', 0.8431247472763062),\n",
       " ('glad', 0.8085960149765015),\n",
       " ('endings', 0.780279815196991),\n",
       " ('stupidly', 0.7631745338439941),\n",
       " ('birthday', 0.7594167590141296)]"
      ]
     },
     "execution_count": 63,
     "metadata": {},
     "output_type": "execute_result"
    }
   ],
   "source": [
    "print('Happy')\n",
    "sg_model.most_similar(positive=['happy'],topn=5)"
   ]
  },
  {
   "cell_type": "code",
   "execution_count": 64,
   "metadata": {
    "collapsed": false
   },
   "outputs": [
    {
     "name": "stdout",
     "output_type": "stream",
     "text": [
      "Happy\n"
     ]
    },
    {
     "data": {
      "text/plain": [
       "[('unhappy', 0.7206338047981262),\n",
       " ('glad', 0.7131701111793518),\n",
       " ('sad', 0.6280268430709839),\n",
       " ('good', 0.6064357161521912),\n",
       " ('lucky', 0.5828874111175537)]"
      ]
     },
     "execution_count": 64,
     "metadata": {},
     "output_type": "execute_result"
    }
   ],
   "source": [
    "print('Happy')\n",
    "cbow_model.most_similar(positive=['happy'],topn=5)"
   ]
  },
  {
   "cell_type": "code",
   "execution_count": 65,
   "metadata": {
    "collapsed": false
   },
   "outputs": [
    {
     "name": "stdout",
     "output_type": "stream",
     "text": [
      "Strong\n"
     ]
    },
    {
     "data": {
      "text/plain": [
       "[('secure', 0.8102555274963379),\n",
       " ('weak', 0.805472731590271),\n",
       " ('trusting', 0.7850545644760132),\n",
       " ('enough', 0.7806623578071594),\n",
       " ('persuade', 0.7806413173675537)]"
      ]
     },
     "execution_count": 65,
     "metadata": {},
     "output_type": "execute_result"
    }
   ],
   "source": [
    "print('Strong')\n",
    "sg_model.most_similar(positive=['strong'],topn=5)"
   ]
  },
  {
   "cell_type": "code",
   "execution_count": 66,
   "metadata": {
    "collapsed": false
   },
   "outputs": [
    {
     "name": "stdout",
     "output_type": "stream",
     "text": [
      "Strong\n"
     ]
    },
    {
     "data": {
      "text/plain": [
       "[('weak', 0.7337862253189087),\n",
       " ('alive', 0.6747564077377319),\n",
       " ('proud', 0.6446452736854553),\n",
       " ('satisfied', 0.5962284207344055),\n",
       " ('still', 0.5861331820487976)]"
      ]
     },
     "execution_count": 66,
     "metadata": {},
     "output_type": "execute_result"
    }
   ],
   "source": [
    "print('Strong')\n",
    "cbow_model.most_similar(positive=['strong'],topn=5)"
   ]
  },
  {
   "cell_type": "code",
   "execution_count": 5,
   "metadata": {
    "collapsed": false
   },
   "outputs": [],
   "source": [
    "vocab = list(sg_model.wv.vocab)\n",
    "X = sg_model[vocab]"
   ]
  },
  {
   "cell_type": "code",
   "execution_count": null,
   "metadata": {
    "collapsed": false
   },
   "outputs": [],
   "source": [
    "tsne = TSNE(n_components=2)\n",
    "X_tsne = tsne.fit_transform(X)"
   ]
  },
  {
   "cell_type": "code",
   "execution_count": null,
   "metadata": {
    "collapsed": true
   },
   "outputs": [],
   "source": [
    "df = pd.concat([pd.DataFrame(X_tsne), pd.Series(vocab)], axis =1)\n",
    "df.columns = ['x', 'y', 'word']"
   ]
  },
  {
   "cell_type": "code",
   "execution_count": null,
   "metadata": {
    "collapsed": false
   },
   "outputs": [],
   "source": [
    "fig = plt.figure()\n",
    "ax = fig.add_subplot(1,1,1)\n",
    "ax.scatter(df['x'], df['y'])"
   ]
  },
  {
   "cell_type": "code",
   "execution_count": null,
   "metadata": {
    "collapsed": true
   },
   "outputs": [],
   "source": [
    "for i, txt in enumerate(df['word']):\n",
    "    ax.annotate(txt, (df['x'].iloc[i], df['y'].iloc[i]))"
   ]
  },
  {
   "cell_type": "code",
   "execution_count": null,
   "metadata": {
    "collapsed": true
   },
   "outputs": [],
   "source": [
    "plt.show()"
   ]
  },
  {
   "cell_type": "code",
   "execution_count": null,
   "metadata": {
    "collapsed": false
   },
   "outputs": [],
   "source": []
  },
  {
   "cell_type": "code",
   "execution_count": null,
   "metadata": {
    "collapsed": true
   },
   "outputs": [],
   "source": []
  }
 ],
 "metadata": {
  "anaconda-cloud": {},
  "kernelspec": {
   "display_name": "Python [conda root]",
   "language": "python",
   "name": "conda-root-py"
  },
  "language_info": {
   "codemirror_mode": {
    "name": "ipython",
    "version": 3
   },
   "file_extension": ".py",
   "mimetype": "text/x-python",
   "name": "python",
   "nbconvert_exporter": "python",
   "pygments_lexer": "ipython3",
   "version": "3.5.2"
  }
 },
 "nbformat": 4,
 "nbformat_minor": 1
}
