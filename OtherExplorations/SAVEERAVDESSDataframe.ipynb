{
 "cells": [
  {
   "cell_type": "code",
   "execution_count": 416,
   "metadata": {
    "collapsed": true
   },
   "outputs": [],
   "source": [
    "import tflearn\n",
    "import librosa\n",
    "import os\n",
    "import matplotlib.pyplot as plt\n",
    "import pandas as pd\n",
    "import numpy as np\n",
    "\n",
    "#visualization\n",
    "import seaborn as sns\n",
    "import matplotlib.pyplot as plt\n",
    "%matplotlib inline\n"
   ]
  },
  {
   "cell_type": "code",
   "execution_count": 417,
   "metadata": {
    "collapsed": true
   },
   "outputs": [],
   "source": [
    "valid_dev = pd.read_csv('data/common_voice/cv-valid-dev.csv',index_col=0)\n",
    "valid_train = pd.read_csv('data/common_voice/cv-valid-train.csv',dtype={'ambiguous': str,'emotion':object},index_col=0)\n",
    "valid_test = pd.read_csv('data/common_voice/cv-valid-test.csv',index_col=0)\n",
    "\n",
    "combine = [valid_dev,valid_train, valid_test]\n"
   ]
  },
  {
   "cell_type": "markdown",
   "metadata": {},
   "source": [
    "# RAVDESS"
   ]
  },
  {
   "cell_type": "code",
   "execution_count": 418,
   "metadata": {
    "collapsed": true
   },
   "outputs": [],
   "source": [
    "actors_files = os.listdir('data/RAVDESS/')\n",
    "files = os.listdir('data/RAVDESS/')"
   ]
  },
  {
   "cell_type": "code",
   "execution_count": null,
   "metadata": {
    "collapsed": true
   },
   "outputs": [],
   "source": []
  },
  {
   "cell_type": "code",
   "execution_count": 419,
   "metadata": {
    "collapsed": true
   },
   "outputs": [],
   "source": [
    "\n",
    "emotion_mapping = {'01':'neutral','02':'calm','03':'happy','04':'sad','05':'anger','06':'fear','07':'disgust','08':'surprise'}\n",
    "emotional_intensity = {'01':'normal','02':'strong'}\n",
    "statement_map = {'01':'Kids are talking by the door','02':'Dogs are sitting by the door'}\n",
    "\n",
    "emotion = []\n",
    "intensity = []\n",
    "statement = []\n",
    "repetition = []\n",
    "subject = []\n",
    "\n",
    "for filename in files:\n",
    "        codes = filename.split('.')[0].split('-')\n",
    "        filename = 'data/RAVDESS/'+ filename\n",
    "        emotion.append(emotion_mapping[codes[2]])\n",
    "        intensity.append(emotional_intensity[codes[3]])\n",
    "        statement.append(statement_map[codes[4]])\n",
    "        repetition.append(codes[5])\n",
    "        subject.append(codes[6])\n",
    "\n",
    "data = {'filename':files,'emotion':emotion,'emotional_intensity':intensity,'text': statement,'repetition':repetition,'subject':subject, 'source':'RAVDESS'}\n",
    "ravdess_df = pd.DataFrame(data)"
   ]
  },
  {
   "cell_type": "code",
   "execution_count": 421,
   "metadata": {},
   "outputs": [
    {
     "data": {
      "text/html": [
       "<div>\n",
       "<style>\n",
       "    .dataframe thead tr:only-child th {\n",
       "        text-align: right;\n",
       "    }\n",
       "\n",
       "    .dataframe thead th {\n",
       "        text-align: left;\n",
       "    }\n",
       "\n",
       "    .dataframe tbody tr th {\n",
       "        vertical-align: top;\n",
       "    }\n",
       "</style>\n",
       "<table border=\"1\" class=\"dataframe\">\n",
       "  <thead>\n",
       "    <tr style=\"text-align: right;\">\n",
       "      <th></th>\n",
       "      <th>emotion</th>\n",
       "      <th>emotional_intensity</th>\n",
       "      <th>filename</th>\n",
       "      <th>repetition</th>\n",
       "      <th>source</th>\n",
       "      <th>subject</th>\n",
       "      <th>text</th>\n",
       "    </tr>\n",
       "  </thead>\n",
       "  <tbody>\n",
       "    <tr>\n",
       "      <th>0</th>\n",
       "      <td>sad</td>\n",
       "      <td>strong</td>\n",
       "      <td>03-01-04-02-02-02-16.wav</td>\n",
       "      <td>02</td>\n",
       "      <td>RAVDESS</td>\n",
       "      <td>16</td>\n",
       "      <td>Dogs are sitting by the door</td>\n",
       "    </tr>\n",
       "    <tr>\n",
       "      <th>1</th>\n",
       "      <td>calm</td>\n",
       "      <td>strong</td>\n",
       "      <td>03-01-02-02-02-01-01.wav</td>\n",
       "      <td>01</td>\n",
       "      <td>RAVDESS</td>\n",
       "      <td>01</td>\n",
       "      <td>Dogs are sitting by the door</td>\n",
       "    </tr>\n",
       "    <tr>\n",
       "      <th>2</th>\n",
       "      <td>calm</td>\n",
       "      <td>normal</td>\n",
       "      <td>03-01-02-01-02-01-12.wav</td>\n",
       "      <td>01</td>\n",
       "      <td>RAVDESS</td>\n",
       "      <td>12</td>\n",
       "      <td>Dogs are sitting by the door</td>\n",
       "    </tr>\n",
       "    <tr>\n",
       "      <th>3</th>\n",
       "      <td>surprise</td>\n",
       "      <td>normal</td>\n",
       "      <td>03-01-08-01-02-01-14.wav</td>\n",
       "      <td>01</td>\n",
       "      <td>RAVDESS</td>\n",
       "      <td>14</td>\n",
       "      <td>Dogs are sitting by the door</td>\n",
       "    </tr>\n",
       "    <tr>\n",
       "      <th>4</th>\n",
       "      <td>surprise</td>\n",
       "      <td>strong</td>\n",
       "      <td>03-01-08-02-02-02-15.wav</td>\n",
       "      <td>02</td>\n",
       "      <td>RAVDESS</td>\n",
       "      <td>15</td>\n",
       "      <td>Dogs are sitting by the door</td>\n",
       "    </tr>\n",
       "  </tbody>\n",
       "</table>\n",
       "</div>"
      ],
      "text/plain": [
       "    emotion emotional_intensity                  filename repetition   source  \\\n",
       "0       sad              strong  03-01-04-02-02-02-16.wav         02  RAVDESS   \n",
       "1      calm              strong  03-01-02-02-02-01-01.wav         01  RAVDESS   \n",
       "2      calm              normal  03-01-02-01-02-01-12.wav         01  RAVDESS   \n",
       "3  surprise              normal  03-01-08-01-02-01-14.wav         01  RAVDESS   \n",
       "4  surprise              strong  03-01-08-02-02-02-15.wav         02  RAVDESS   \n",
       "\n",
       "  subject                          text  \n",
       "0      16  Dogs are sitting by the door  \n",
       "1      01  Dogs are sitting by the door  \n",
       "2      12  Dogs are sitting by the door  \n",
       "3      14  Dogs are sitting by the door  \n",
       "4      15  Dogs are sitting by the door  "
      ]
     },
     "execution_count": 421,
     "metadata": {},
     "output_type": "execute_result"
    }
   ],
   "source": [
    "ravdess_df.head(5)"
   ]
  },
  {
   "cell_type": "code",
   "execution_count": null,
   "metadata": {
    "collapsed": true
   },
   "outputs": [],
   "source": []
  },
  {
   "cell_type": "code",
   "execution_count": null,
   "metadata": {
    "collapsed": true
   },
   "outputs": [],
   "source": []
  },
  {
   "cell_type": "code",
   "execution_count": null,
   "metadata": {
    "collapsed": true
   },
   "outputs": [],
   "source": []
  },
  {
   "cell_type": "markdown",
   "metadata": {},
   "source": []
  },
  {
   "cell_type": "markdown",
   "metadata": {},
   "source": [
    "# SAVEE"
   ]
  },
  {
   "cell_type": "code",
   "execution_count": 427,
   "metadata": {
    "collapsed": true
   },
   "outputs": [],
   "source": [
    "# os.listdir('data/NRC-Sentiment-Emotion-Lexicons/')\n",
    "savee_sentences = pd.read_csv('data/SAVEE_sentences.csv',dtype={'emotion': str,'code':int})"
   ]
  },
  {
   "cell_type": "code",
   "execution_count": 428,
   "metadata": {
    "collapsed": true
   },
   "outputs": [],
   "source": [
    "voice_actors = ['DC','JE','JK','KL']\n",
    "files = os.listdir('data/SAVEE/')\n",
    "\n",
    "emotion_mapping = {'n':'neutral','c':'calm','h':'happy','sa':'sad','a':'anger','f':'fear','d':'disgust','su':'surprise'}\n",
    "emotion = []\n",
    "actor = []\n",
    "text = []\n",
    "for file in files:\n",
    "    file = file.split('.')[0]\n",
    "    actor.append(file.split('_')[0])\n",
    "    file = file.split('_')[1]\n",
    "    if('sa' in file or 'su' in file):\n",
    "        emotion_code = file[:2]\n",
    "        code = file[2:]\n",
    "    else:\n",
    "        emotion_code = file[:1]\n",
    "        code = file[1:]\n",
    "    emotion.append(emotion_mapping[emotion_code])\n",
    "    text.append(savee_sentences.loc[(savee_sentences['code'] == int(code)) & (savee_sentences['emotion'] == emotion_code)]['text'].values[0])\n"
   ]
  },
  {
   "cell_type": "code",
   "execution_count": 429,
   "metadata": {
    "collapsed": true
   },
   "outputs": [],
   "source": [
    "data = {'filename':files,'emotion':emotion,'text': text,'subject':actor, 'source':'SAVEE'}\n",
    "savee_df = pd.DataFrame(data)"
   ]
  }
 ],
 "metadata": {
  "anaconda-cloud": {},
  "kernelspec": {
   "display_name": "Python 2",
   "language": "python",
   "name": "python2"
  },
  "language_info": {
   "codemirror_mode": {
    "name": "ipython",
    "version": 2
   },
   "file_extension": ".py",
   "mimetype": "text/x-python",
   "name": "python",
   "nbconvert_exporter": "python",
   "pygments_lexer": "ipython2",
   "version": "2.7.12"
  }
 },
 "nbformat": 4,
 "nbformat_minor": 1
}
