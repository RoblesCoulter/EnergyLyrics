{
 "cells": [
  {
   "cell_type": "code",
   "execution_count": null,
   "metadata": {
    "collapsed": true
   },
   "outputs": [],
   "source": []
  },
  {
   "cell_type": "code",
   "execution_count": 141,
   "metadata": {
    "collapsed": true
   },
   "outputs": [],
   "source": [
    "import numpy as np\n",
    "import pandas as pd\n",
    "from English_to_IPA import conversion\n",
    "import matplotlib.pyplot as plt\n",
    "import json\n",
    "\n",
    "#HTTP\n",
    "import requests\n",
    "\n",
    "#Audio Analysis\n",
    "import librosa\n",
    "from pydub import AudioSegment\n",
    "from pydub.silence import split_on_silence\n",
    "\n",
    "%matplotlib inline"
   ]
  },
  {
   "cell_type": "code",
   "execution_count": 142,
   "metadata": {
    "collapsed": true
   },
   "outputs": [],
   "source": [
    "def get_pattern(text):\n",
    "    text = json.dumps(text)\n",
    "    url = 'http://192.168.2.101:7878/api/get_patt'\n",
    "    data = dict(input_tweets = text)\n",
    "    resp = requests.post(url=url, data=data)\n",
    "    r = json.loads(resp.text)\n",
    "    return r\n",
    "\n",
    "def load_merge_data():\n",
    "    savee_df = pd.read_csv('data/SAVEE.csv',index_col=0)\n",
    "    ravdess_df = pd.read_csv('data/RAVDESS.csv',index_col=0)\n",
    "    ravdess_df = ravdess_df[['emotion','filename','source','subject','text']]\n",
    "    merged_df = pd.concat([condensed_rvdss, savee_df])\n",
    "    return [savee_df,ravdess_df,merged_df]"
   ]
  },
  {
   "cell_type": "code",
   "execution_count": 143,
   "metadata": {
    "collapsed": true
   },
   "outputs": [],
   "source": [
    "savee,ravdess,merge = load_merge_data()"
   ]
  },
  {
   "cell_type": "code",
   "execution_count": 153,
   "metadata": {},
   "outputs": [
    {
     "data": {
      "text/html": [
       "<div>\n",
       "<style>\n",
       "    .dataframe thead tr:only-child th {\n",
       "        text-align: right;\n",
       "    }\n",
       "\n",
       "    .dataframe thead th {\n",
       "        text-align: left;\n",
       "    }\n",
       "\n",
       "    .dataframe tbody tr th {\n",
       "        vertical-align: top;\n",
       "    }\n",
       "</style>\n",
       "<table border=\"1\" class=\"dataframe\">\n",
       "  <thead>\n",
       "    <tr style=\"text-align: right;\">\n",
       "      <th></th>\n",
       "      <th>emotion</th>\n",
       "      <th>filename</th>\n",
       "      <th>source</th>\n",
       "      <th>subject</th>\n",
       "      <th>text</th>\n",
       "    </tr>\n",
       "  </thead>\n",
       "  <tbody>\n",
       "    <tr>\n",
       "      <th>0</th>\n",
       "      <td>sad</td>\n",
       "      <td>03-01-04-02-02-02-16.wav</td>\n",
       "      <td>RAVDESS</td>\n",
       "      <td>16</td>\n",
       "      <td>Dogs are sitting by the door</td>\n",
       "    </tr>\n",
       "    <tr>\n",
       "      <th>1</th>\n",
       "      <td>calm</td>\n",
       "      <td>03-01-02-02-02-01-01.wav</td>\n",
       "      <td>RAVDESS</td>\n",
       "      <td>1</td>\n",
       "      <td>Dogs are sitting by the door</td>\n",
       "    </tr>\n",
       "    <tr>\n",
       "      <th>2</th>\n",
       "      <td>calm</td>\n",
       "      <td>03-01-02-01-02-01-12.wav</td>\n",
       "      <td>RAVDESS</td>\n",
       "      <td>12</td>\n",
       "      <td>Dogs are sitting by the door</td>\n",
       "    </tr>\n",
       "    <tr>\n",
       "      <th>3</th>\n",
       "      <td>surprise</td>\n",
       "      <td>03-01-08-01-02-01-14.wav</td>\n",
       "      <td>RAVDESS</td>\n",
       "      <td>14</td>\n",
       "      <td>Dogs are sitting by the door</td>\n",
       "    </tr>\n",
       "    <tr>\n",
       "      <th>4</th>\n",
       "      <td>surprise</td>\n",
       "      <td>03-01-08-02-02-02-15.wav</td>\n",
       "      <td>RAVDESS</td>\n",
       "      <td>15</td>\n",
       "      <td>Dogs are sitting by the door</td>\n",
       "    </tr>\n",
       "  </tbody>\n",
       "</table>\n",
       "</div>"
      ],
      "text/plain": [
       "    emotion                  filename   source  subject  \\\n",
       "0       sad  03-01-04-02-02-02-16.wav  RAVDESS       16   \n",
       "1      calm  03-01-02-02-02-01-01.wav  RAVDESS        1   \n",
       "2      calm  03-01-02-01-02-01-12.wav  RAVDESS       12   \n",
       "3  surprise  03-01-08-01-02-01-14.wav  RAVDESS       14   \n",
       "4  surprise  03-01-08-02-02-02-15.wav  RAVDESS       15   \n",
       "\n",
       "                           text  \n",
       "0  Dogs are sitting by the door  \n",
       "1  Dogs are sitting by the door  \n",
       "2  Dogs are sitting by the door  \n",
       "3  Dogs are sitting by the door  \n",
       "4  Dogs are sitting by the door  "
      ]
     },
     "execution_count": 153,
     "metadata": {},
     "output_type": "execute_result"
    }
   ],
   "source": [
    "ravdess.head(5)"
   ]
  },
  {
   "cell_type": "code",
   "execution_count": 154,
   "metadata": {},
   "outputs": [
    {
     "data": {
      "text/html": [
       "<div>\n",
       "<style>\n",
       "    .dataframe thead tr:only-child th {\n",
       "        text-align: right;\n",
       "    }\n",
       "\n",
       "    .dataframe thead th {\n",
       "        text-align: left;\n",
       "    }\n",
       "\n",
       "    .dataframe tbody tr th {\n",
       "        vertical-align: top;\n",
       "    }\n",
       "</style>\n",
       "<table border=\"1\" class=\"dataframe\">\n",
       "  <thead>\n",
       "    <tr style=\"text-align: right;\">\n",
       "      <th></th>\n",
       "      <th>emotion</th>\n",
       "      <th>filename</th>\n",
       "      <th>source</th>\n",
       "      <th>subject</th>\n",
       "      <th>text</th>\n",
       "    </tr>\n",
       "  </thead>\n",
       "  <tbody>\n",
       "    <tr>\n",
       "      <th>0</th>\n",
       "      <td>anger</td>\n",
       "      <td>DC_a03.wav</td>\n",
       "      <td>SAVEE</td>\n",
       "      <td>DC</td>\n",
       "      <td>Will you tell me why?</td>\n",
       "    </tr>\n",
       "    <tr>\n",
       "      <th>1</th>\n",
       "      <td>fear</td>\n",
       "      <td>JE_f13.wav</td>\n",
       "      <td>SAVEE</td>\n",
       "      <td>JE</td>\n",
       "      <td>The pulsing glow of a cigarette.</td>\n",
       "    </tr>\n",
       "    <tr>\n",
       "      <th>2</th>\n",
       "      <td>fear</td>\n",
       "      <td>DC_f14.wav</td>\n",
       "      <td>SAVEE</td>\n",
       "      <td>DC</td>\n",
       "      <td>One looked down on a sea of leaves, a breaking...</td>\n",
       "    </tr>\n",
       "    <tr>\n",
       "      <th>3</th>\n",
       "      <td>surprise</td>\n",
       "      <td>KL_su09.wav</td>\n",
       "      <td>SAVEE</td>\n",
       "      <td>KL</td>\n",
       "      <td>Please dig my potatoes up before frost.</td>\n",
       "    </tr>\n",
       "    <tr>\n",
       "      <th>4</th>\n",
       "      <td>neutral</td>\n",
       "      <td>KL_n27.wav</td>\n",
       "      <td>SAVEE</td>\n",
       "      <td>KL</td>\n",
       "      <td>The prospect of cutting back spending is an un...</td>\n",
       "    </tr>\n",
       "  </tbody>\n",
       "</table>\n",
       "</div>"
      ],
      "text/plain": [
       "    emotion     filename source subject  \\\n",
       "0     anger   DC_a03.wav  SAVEE      DC   \n",
       "1      fear   JE_f13.wav  SAVEE      JE   \n",
       "2      fear   DC_f14.wav  SAVEE      DC   \n",
       "3  surprise  KL_su09.wav  SAVEE      KL   \n",
       "4   neutral   KL_n27.wav  SAVEE      KL   \n",
       "\n",
       "                                                text  \n",
       "0                              Will you tell me why?  \n",
       "1                   The pulsing glow of a cigarette.  \n",
       "2  One looked down on a sea of leaves, a breaking...  \n",
       "3            Please dig my potatoes up before frost.  \n",
       "4  The prospect of cutting back spending is an un...  "
      ]
     },
     "execution_count": 154,
     "metadata": {},
     "output_type": "execute_result"
    }
   ],
   "source": [
    "savee.head(5)"
   ]
  },
  {
   "cell_type": "code",
   "execution_count": 126,
   "metadata": {
    "collapsed": true
   },
   "outputs": [],
   "source": [
    "speech_texts = list(merge['text'].unique())\n",
    "temp = speech_texts[0].split(' ')"
   ]
  },
  {
   "cell_type": "code",
   "execution_count": 146,
   "metadata": {},
   "outputs": [
    {
     "data": {
      "text/plain": [
       "['Dogs', 'are', 'sitting', 'by', 'the', 'door']"
      ]
     },
     "execution_count": 146,
     "metadata": {},
     "output_type": "execute_result"
    }
   ],
   "source": [
    "temp"
   ]
  },
  {
   "cell_type": "code",
   "execution_count": 131,
   "metadata": {},
   "outputs": [
    {
     "data": {
      "text/html": [
       "<div>\n",
       "<style>\n",
       "    .dataframe thead tr:only-child th {\n",
       "        text-align: right;\n",
       "    }\n",
       "\n",
       "    .dataframe thead th {\n",
       "        text-align: left;\n",
       "    }\n",
       "\n",
       "    .dataframe tbody tr th {\n",
       "        vertical-align: top;\n",
       "    }\n",
       "</style>\n",
       "<table border=\"1\" class=\"dataframe\">\n",
       "  <thead>\n",
       "    <tr style=\"text-align: right;\">\n",
       "      <th></th>\n",
       "      <th>emotion</th>\n",
       "      <th>filename</th>\n",
       "      <th>source</th>\n",
       "      <th>subject</th>\n",
       "      <th>text</th>\n",
       "    </tr>\n",
       "  </thead>\n",
       "  <tbody>\n",
       "    <tr>\n",
       "      <th>0</th>\n",
       "      <td>sad</td>\n",
       "      <td>03-01-04-02-02-02-16.wav</td>\n",
       "      <td>RAVDESS</td>\n",
       "      <td>16</td>\n",
       "      <td>Dogs are sitting by the door</td>\n",
       "    </tr>\n",
       "  </tbody>\n",
       "</table>\n",
       "</div>"
      ],
      "text/plain": [
       "  emotion                  filename   source subject  \\\n",
       "0     sad  03-01-04-02-02-02-16.wav  RAVDESS      16   \n",
       "\n",
       "                           text  \n",
       "0  Dogs are sitting by the door  "
      ]
     },
     "execution_count": 131,
     "metadata": {},
     "output_type": "execute_result"
    }
   ],
   "source": [
    "merge.head(1)"
   ]
  },
  {
   "cell_type": "code",
   "execution_count": 148,
   "metadata": {},
   "outputs": [
    {
     "ename": "IndexError",
     "evalue": "list index out of range",
     "output_type": "error",
     "traceback": [
      "\u001b[0;31m---------------------------------------------------------------------------\u001b[0m",
      "\u001b[0;31mIndexError\u001b[0m                                Traceback (most recent call last)",
      "\u001b[0;32m<ipython-input-148-97a47f356353>\u001b[0m in \u001b[0;36m<module>\u001b[0;34m()\u001b[0m\n\u001b[1;32m      6\u001b[0m                                \u001b[0mmin_silence_len\u001b[0m\u001b[0;34m=\u001b[0m\u001b[0;36m400\u001b[0m\u001b[0;34m,\u001b[0m\u001b[0;34m\u001b[0m\u001b[0m\n\u001b[1;32m      7\u001b[0m                                silence_thresh= -16)\n\u001b[0;32m----> 8\u001b[0;31m \u001b[0maudio_chunks\u001b[0m\u001b[0;34m[\u001b[0m\u001b[0;36m0\u001b[0m\u001b[0;34m]\u001b[0m\u001b[0;34m\u001b[0m\u001b[0m\n\u001b[0m",
      "\u001b[0;31mIndexError\u001b[0m: list index out of range"
     ]
    }
   ],
   "source": [
    "from pydub import AudioSegment\n",
    "from pydub.silence import split_on_silence\n",
    "test_file ='data/SAVEE/JK_sa14.wav'\n",
    "sound_file = AudioSegment.from_wav(test_file)\n",
    "audio_chunks = split_on_silence(sound_file,\n",
    "                               min_silence_len=500,\n",
    "                               silence_thresh= -16)\n",
    "audio_chunks\n"
   ]
  },
  {
   "cell_type": "code",
   "execution_count": null,
   "metadata": {
    "collapsed": true
   },
   "outputs": [],
   "source": []
  },
  {
   "cell_type": "code",
   "execution_count": null,
   "metadata": {
    "collapsed": true
   },
   "outputs": [],
   "source": []
  }
 ],
 "metadata": {
  "kernelspec": {
   "display_name": "Python 2",
   "language": "python",
   "name": "python2"
  },
  "language_info": {
   "codemirror_mode": {
    "name": "ipython",
    "version": 2
   },
   "file_extension": ".py",
   "mimetype": "text/x-python",
   "name": "python",
   "nbconvert_exporter": "python",
   "pygments_lexer": "ipython2",
   "version": "2.7.12"
  }
 },
 "nbformat": 4,
 "nbformat_minor": 2
}
