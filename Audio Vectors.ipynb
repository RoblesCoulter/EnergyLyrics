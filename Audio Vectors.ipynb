{
 "cells": [
  {
   "cell_type": "code",
   "execution_count": 416,
   "metadata": {
    "collapsed": true
   },
   "outputs": [],
   "source": [
    "import tflearn\n",
    "import librosa\n",
    "import os\n",
    "import matplotlib.pyplot as plt\n",
    "import pandas as pd\n",
    "import numpy as np\n",
    "\n",
    "#visualization\n",
    "import seaborn as sns\n",
    "import matplotlib.pyplot as plt\n",
    "%matplotlib inline\n"
   ]
  },
  {
   "cell_type": "code",
   "execution_count": 417,
   "metadata": {
    "collapsed": true
   },
   "outputs": [],
   "source": [
    "valid_dev = pd.read_csv('data/common_voice/cv-valid-dev.csv',index_col=0)\n",
    "valid_train = pd.read_csv('data/common_voice/cv-valid-train.csv',dtype={'ambiguous': str,'emotion':object},index_col=0)\n",
    "valid_test = pd.read_csv('data/common_voice/cv-valid-test.csv',index_col=0)\n",
    "\n",
    "combine = [valid_dev,valid_train, valid_test]\n"
   ]
  },
  {
   "cell_type": "markdown",
   "metadata": {
    "heading_collapsed": true
   },
   "source": [
    "# wav2mfcc"
   ]
  },
  {
   "cell_type": "code",
   "execution_count": 275,
   "metadata": {
    "collapsed": true,
    "hidden": true
   },
   "outputs": [],
   "source": [
    "import parselmouth\n",
    "\n",
    "for file in ravdess_df['filename']:\n",
    "    sound = parselmouth.Sound('data/RAVDESS/'+file)\n",
    "    break\n",
    "\n",
    "# pl = PraatLoader(praatpath = '/usr/bin/praat')\n",
    "# ravdess_in_dir = 'data/RAVDESS/'\n",
    "# ravdess_out_dir = 'data/RAVDESSmfcc'\n",
    "# savee_in_dir = 'data/SAVEE/'\n",
    "# savee_out_dir = 'data/SAVEEmfcc'\n",
    "\n",
    "# text = pl.run_script('/home/pi/Documents/Project_Jammin/speech_emotion_classifier/wav2mfcc.praat', in_dir, out_dir )\n",
    "# #text = pl.run_script('/home/pi/Documents/Project_Jammin/speech_emotion_classifier/formants.praat','/home/pi/Documents/Project_Jammin/speech_recognition/wav/test.wav', 5500, 5)\n",
    "# Y\n",
    "\n",
    "# print text\n",
    "# mats = pl.read_praat_out(text)\n",
    "# print mats\n",
    "# print \"Done\"\n"
   ]
  },
  {
   "cell_type": "code",
   "execution_count": 287,
   "metadata": {
    "hidden": true
   },
   "outputs": [
    {
     "data": {
      "text/plain": [
       "<parselmouth.MFCC at 0x7fdb5a1d7538>"
      ]
     },
     "execution_count": 287,
     "metadata": {},
     "output_type": "execute_result"
    }
   ],
   "source": [
    "mfcc = sound.to_mfcc(12,0.015,0.005,100.0, 100.0)\n",
    "mfcc\n",
    "#(self: parselmouth.Sound, number_of_coefficients: Positive[int] = 12,\n",
    "#window_length: Positive[float] = 0.015, \n",
    "#time_step: Positive[float] = 0.005, \n",
    "#firstFilterFreqency: Positive[float] = 100.0, \n",
    "#distance_between_filters: Positive[float] = 100.0, \n",
    "#maximum_frequency: Optional[Positive[float]] = None) → parselmouth.MFCC"
   ]
  },
  {
   "cell_type": "code",
   "execution_count": 410,
   "metadata": {
    "hidden": true
   },
   "outputs": [
    {
     "data": {
      "text/plain": [
       "'It is one of the rare public ventures here on which nearly everyone is agreed.'"
      ]
     },
     "execution_count": 410,
     "metadata": {},
     "output_type": "execute_result"
    }
   ],
   "source": [
    "savee_df[savee_df.filename == 'JE_sa14.wav']['text'].values[0]"
   ]
  },
  {
   "cell_type": "code",
   "execution_count": null,
   "metadata": {
    "collapsed": true,
    "hidden": true
   },
   "outputs": [],
   "source": []
  },
  {
   "cell_type": "code",
   "execution_count": 336,
   "metadata": {
    "collapsed": true,
    "hidden": true
   },
   "outputs": [],
   "source": [
    "from pydub import AudioSegment\n",
    "from pydub.utils import db_to_float\n",
    "from pydub.silence import split_on_silence"
   ]
  },
  {
   "cell_type": "code",
   "execution_count": 352,
   "metadata": {
    "collapsed": true,
    "hidden": true
   },
   "outputs": [],
   "source": [
    "audio_file = AudioSegment.from_wav('data/SAVEE/DC_a07.wav')\n",
    "average_loudness = audio_file.rms"
   ]
  },
  {
   "cell_type": "code",
   "execution_count": 370,
   "metadata": {
    "collapsed": true,
    "hidden": true
   },
   "outputs": [],
   "source": [
    "chunks = split_on_silence(audio_file, \n",
    "    # must be silent for at least half a second\n",
    "    min_silence_len=200,\n",
    "\n",
    "    # consider it silent if quieter than -16 dBFS\n",
    "    silence_thresh=-16\n",
    ")"
   ]
  },
  {
   "cell_type": "code",
   "execution_count": 371,
   "metadata": {
    "collapsed": true,
    "hidden": true
   },
   "outputs": [],
   "source": [
    "for i, chunk in enumerate(chunks):\n",
    "    chunk.export(\"data/SAVEETest/chunk{0}.wav\".format(i), format=\"wav\")"
   ]
  },
  {
   "cell_type": "code",
   "execution_count": 372,
   "metadata": {
    "hidden": true
   },
   "outputs": [
    {
     "name": "stdout",
     "output_type": "stream",
     "text": [
      "<pydub.audio_segment.AudioSegment object at 0x7fdb5a9a5bd0>\n"
     ]
    }
   ],
   "source": [
    "for i, chunk in enumerate(chunks):\n",
    "    print(chunk)"
   ]
  },
  {
   "cell_type": "code",
   "execution_count": 375,
   "metadata": {
    "hidden": true
   },
   "outputs": [
    {
     "data": {
      "text/html": [
       "\n",
       "                    <audio controls>\n",
       "                        <source src=\"data:audio/mpeg;base64,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\" type=\"audio/mpeg\"/>\n",
       "                        Your browser does not support the audio element.\n",
       "                    </audio>\n",
       "                  "
      ],
      "text/plain": [
       "<pydub.audio_segment.AudioSegment at 0x7fdb5a9a5bd0>"
      ]
     },
     "execution_count": 375,
     "metadata": {},
     "output_type": "execute_result"
    }
   ],
   "source": [
    "chunks[0]"
   ]
  },
  {
   "cell_type": "code",
   "execution_count": 312,
   "metadata": {
    "collapsed": true,
    "hidden": true
   },
   "outputs": [],
   "source": []
  },
  {
   "cell_type": "code",
   "execution_count": 432,
   "metadata": {
    "hidden": true
   },
   "outputs": [
    {
     "data": {
      "text/plain": [
       "'\\n# calculate zero-crossing-rate\\nzcr, ts = zero_crossing_rate(wavedata, 2048, samplerate);\\nprint zcr, ts\\nprint zcr.shape\\nprint np.average(zcr)'"
      ]
     },
     "execution_count": 432,
     "metadata": {},
     "output_type": "execute_result"
    }
   ],
   "source": [
    "import numpy as np\n",
    "from numpy.lib                    import stride_tricks\n",
    "\n",
    "import os\n",
    "\n",
    "# signal processing\n",
    "from scipy.io                     import wavfile\n",
    "from scipy                        import stats, signal\n",
    "from scipy.fftpack                import fft\n",
    "\n",
    "from scipy.signal                 import lfilter, hamming\n",
    "from scipy.fftpack.realtransforms import dct\n",
    "from scikits.talkbox              import segment_axis\n",
    "from scikits.talkbox.features     import mfcc\n",
    "\n",
    "\"\"\" short time fourier transform of audio signal \"\"\"\n",
    "def stft(sig, frameSize, overlapFac=0.5, window=np.hanning):\n",
    "    win = window(frameSize)\n",
    "    hopSize = int(frameSize - np.floor(overlapFac * frameSize))\n",
    "    \n",
    "    # zeros at beginning (thus center of 1st window should be for sample nr. 0)\n",
    "    samples = np.append(np.zeros(np.floor(frameSize/2.0)), sig)    \n",
    "    # cols for windowing\n",
    "    cols = np.ceil( (len(samples) - frameSize) / float(hopSize)) + 1\n",
    "    # zeros at end (thus samples can be fully covered by frames)\n",
    "    samples = np.append(samples, np.zeros(frameSize))\n",
    "    \n",
    "    frames = stride_tricks.as_strided(samples, shape=(cols, frameSize), strides=(samples.strides[0]*hopSize, samples.strides[0])).copy()\n",
    "    #print win\n",
    "    #print frames\n",
    "    frames *= win\n",
    "    \n",
    "    return np.fft.rfft(frames)  \n",
    "\n",
    "def spectral_rolloff(wavedata, window_size, sample_rate, k=0.85):\n",
    "    \n",
    "    # convert to frequency domain\n",
    "    magnitude_spectrum = stft(wavedata, window_size)\n",
    "    power_spectrum     = np.abs(magnitude_spectrum)**2\n",
    "    timebins, freqbins = np.shape(magnitude_spectrum)\n",
    "    \n",
    "    # when do these blocks begin (time in seconds)?\n",
    "    timestamps = (np.arange(0,timebins - 1) * (timebins / float(sample_rate)))\n",
    "    \n",
    "    sr = []\n",
    "\n",
    "    spectralSum    = np.sum(power_spectrum, axis=1)\n",
    "    \n",
    "    for t in range(timebins-1):\n",
    "        \n",
    "        # find frequency-bin indeces where the cummulative sum of all bins is higher\n",
    "        # than k-percent of the sum of all bins. Lowest index = Rolloff\n",
    "        sr_t = np.where(np.cumsum(power_spectrum[t,:]) >= k * spectralSum[t])[0][0]\n",
    "        \n",
    "        sr.append(sr_t)\n",
    "        \n",
    "    sr = np.asarray(sr).astype(float)\n",
    "    \n",
    "    # convert frequency-bin index to frequency in Hz\n",
    "    sr = (sr / freqbins) * (sample_rate / 2.0)\n",
    "    \n",
    "    return sr, np.asarray(timestamps)\n",
    "\n",
    "def zero_crossing_rate(wavedata, block_length, samplerate):\n",
    "    \n",
    "    # how many blocks have to be processed?\n",
    "    num_blocks = int(np.ceil(len(wavedata)/block_length))\n",
    "    \n",
    "    # when do these blocks begin (time in seconds)?\n",
    "    timestamps = (np.arange(0,num_blocks - 1) * (block_length / float(samplerate)))\n",
    "    \n",
    "    zcr = []\n",
    "    \n",
    "    for i in range(0,num_blocks-1):\n",
    "        \n",
    "        start = i * block_length\n",
    "        stop  = np.min([(start + block_length - 1), len(wavedata)])\n",
    "        \n",
    "        zc = 0.5 * np.mean(np.abs(np.diff(np.sign(wavedata[start:stop]))))\n",
    "        zcr.append(zc)\n",
    "    \n",
    "    return np.asarray(zcr), np.asarray(timestamps)\n",
    "\n",
    "def compute(path,preemph = False):\n",
    "    # Convert to wave data\n",
    "    samplerate, wavedata = wavfile.read(path)\n",
    "\n",
    "    if preemph:\n",
    "        # Pre-emphasis factor (to take into account the -6dB/octave\n",
    "        # rolloff of the radiation at the lips level)\n",
    "        prefac  = 0.97\n",
    "\n",
    "        wavedata = lfilter([1., -prefac], 1, wavedata)\n",
    "\n",
    "    # Get spectral roll off\n",
    "    sr, ts = spectral_rolloff(wavedata,\n",
    "                        #100000,\n",
    "                        1024, \n",
    "                        samplerate,\n",
    "                        k=0.85)\n",
    "\n",
    "    if sr.shape[0] == 0:\n",
    "        print \"error\"\n",
    "        return None\n",
    "    else:\n",
    "        '''if sr.shape[0] > 1:\n",
    "            count2 = count2 + 1\n",
    "            print sr.shape'''\n",
    "        sr1 =  np.median(sr)\n",
    "        sr2 =  np.average(sr)\n",
    "\n",
    "            \n",
    "    # Get the avg ZCR\n",
    "    zcr, ts = zero_crossing_rate(wavedata, 2048, samplerate);\n",
    "    #print zcr, ts\n",
    "    #print zcr.shape\n",
    "    #print c\n",
    "    zcr = np.average(zcr)\n",
    "\n",
    "    feats = np.array([zcr,sr1,sr2])\n",
    "    return feats\n",
    "    \n",
    "\n",
    "def compute_all(in_dir,out_dir):\n",
    "    #in_dir = '/home/pi/Documents/Project_Jammin/speech_emotion_classifier/wav/wav/german'\n",
    "\n",
    "    count = 0\n",
    "    count2 = 0\n",
    "\n",
    "    preemph = False\n",
    "\n",
    "    for fname in os.listdir(in_dir):\n",
    "        path = os.path.join(in_dir, fname)\n",
    "        if \".\" not in fname[0]:\n",
    "\n",
    "            feats = compute(path, preemph)\n",
    "\n",
    "            if feats is None:\n",
    "                break\n",
    "            \n",
    "            np.savetxt('%s/%s'%(out_dir,fname.replace(\"wav\",\"txt\")), feats, delimiter=',') \n",
    "            print feats\n",
    "            \n",
    "            count = count + 1\n",
    "\n",
    "    print \"Processed %d and big %d\"%(count,count2)\n",
    "\n",
    "compute_all('data/SAVEE/','data/SAVEEsr_zcr')\n",
    "#path = '/home/pi/Documents/Project_Jammin/speech_emotion_classifier/live/utterance_last.wav'\n",
    "#path = '/home/pi/Documents/Project_Jammin/speech_emotion_classifier/wav/wav/english/DC_a03.wav'\n",
    "#feats = compute(path)\n",
    "#print feats\n",
    "\n",
    "'''samplerate, wavedata = wavfile.read(in_dir+\"/JE_sa14.wav\")\n",
    "print samplerate\n",
    "\n",
    "sr, ts = spectral_rolloff(wavedata, \n",
    "                           100000, \n",
    "                           samplerate,\n",
    "                           k=0.85)\n",
    "\n",
    "if sr.shape[0] == 0:\n",
    "    print \"error\"\n",
    "else:\n",
    "    print np.median(sr)\n",
    "    print np.average(sr)\n",
    "print sr,ts\n",
    "print sr.shape'''\n",
    "'''\n",
    "# calculate zero-crossing-rate\n",
    "zcr, ts = zero_crossing_rate(wavedata, 2048, samplerate);\n",
    "print zcr, ts\n",
    "print zcr.shape\n",
    "print np.average(zcr)'''"
   ]
  },
  {
   "cell_type": "code",
   "execution_count": null,
   "metadata": {
    "collapsed": true,
    "hidden": true
   },
   "outputs": [],
   "source": []
  },
  {
   "cell_type": "code",
   "execution_count": null,
   "metadata": {
    "collapsed": true,
    "hidden": true
   },
   "outputs": [],
   "source": []
  }
 ],
 "metadata": {
  "anaconda-cloud": {},
  "kernelspec": {
   "display_name": "Python 2",
   "language": "python",
   "name": "python2"
  },
  "language_info": {
   "codemirror_mode": {
    "name": "ipython",
    "version": 2
   },
   "file_extension": ".py",
   "mimetype": "text/x-python",
   "name": "python",
   "nbconvert_exporter": "python",
   "pygments_lexer": "ipython2",
   "version": "2.7.12"
  }
 },
 "nbformat": 4,
 "nbformat_minor": 1
}
